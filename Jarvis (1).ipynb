{
 "cells": [
  {
   "cell_type": "code",
   "execution_count": 1,
   "id": "dc52a2af-2f15-43ee-9776-e1fe1b964251",
   "metadata": {},
   "outputs": [
    {
     "name": "stderr",
     "output_type": "stream",
     "text": [
      "C:\\Users\\hankp\\anaconda3\\Lib\\site-packages\\paramiko\\transport.py:219: CryptographyDeprecationWarning: Blowfish has been deprecated and will be removed in a future release\n",
      "  \"class\": algorithms.Blowfish,\n"
     ]
    },
    {
     "name": "stdin",
     "output_type": "stream",
     "text": [
      "Enter the password to activate assistant:  jarvis\n",
      "\n",
      "Type your command (or type 'exit' to quit):  play bones on youtube\n"
     ]
    },
    {
     "name": "stdout",
     "output_type": "stream",
     "text": [
      "Opening: https://www.youtube.com/watch?v=ZNsPYmkSPeI\n"
     ]
    },
    {
     "name": "stdin",
     "output_type": "stream",
     "text": [
      "\n",
      "Type your command (or type 'exit' to quit):  tell me 2 sentences about north america\n"
     ]
    },
    {
     "name": "stdout",
     "output_type": "stream",
     "text": [
      "Falling back to Wikipedia due to: https://html.duckduckgo.com/html 202 Ratelimit\n",
      "Wikipedia Summary:\n",
      " Tell Me Why is a 2020 episodic adventure game developed by Dontnod Entertainment and published by Xbox Game Studios. The game consists of three chapters released for Windows and Xbox One in late 2020. It follows a pair of twins, Tyler and Alyson, with the ability to communicate with each other through telepathy, who reunite after ten years in their hometown in rural Alaska and investigate the death of their mother.\n"
     ]
    },
    {
     "name": "stdin",
     "output_type": "stream",
     "text": [
      "\n",
      "Type your question (or 'stop' to return to main menu):  which country does apple operate from?\n",
      "\n",
      "Type your question (or 'stop' to return to main menu):  stop\n",
      "\n",
      "Type your command (or type 'exit' to quit):  https://news.sky.com/story/letter-sheds-possible-new-light-on-shakespeares-marriage-13354329 recap this article in 2 sentences\n"
     ]
    },
    {
     "name": "stdout",
     "output_type": "stream",
     "text": [
      "Fetching and summarizing: https://news.sky.com/story/letter-sheds-possible-new-light-on-shakespeares-marriage-13354329\n"
     ]
    },
    {
     "name": "stdin",
     "output_type": "stream",
     "text": [
      "\n",
      "Type your question (or 'stop' to return to main menu):  https://news.sky.com/story/letter-sheds-possible-new-light-on-shakespeares-marriage-13354329 summarise this article in 2 sentences\n",
      "\n",
      "Type your question (or 'stop' to return to main menu):  stop\n",
      "\n",
      "Type your command (or type 'exit' to quit):  exit\n"
     ]
    }
   ],
   "source": [
    "import pyttsx3\n",
    "import requests\n",
    "from duckduckgo_search import DDGS\n",
    "from newspaper import Article\n",
    "import webbrowser\n",
    "import time\n",
    "import wikipedia\n",
    "from autogen import AssistantAgent\n",
    "\n",
    "# Initialize text-to-speech\n",
    "engine = pyttsx3.init()\n",
    "\n",
    "# Groq API Key (Keep this secret!)\n",
    "GROQ_API_KEY = \"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\"\n",
    "\n",
    "#----------------------------------------------------------------------------------------------------\n",
    "# Including a new summariser agent\n",
    "summariser = AssistantAgent(\n",
    "    name=\"Summariser\",\n",
    "    llm_config={\n",
    "        \"api_key\": \"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\",  \n",
    "        \"base_url\": \"https://api.groq.com/openai/v1\",\n",
    "        \"model\": \"llama3-70b-8192\"\n",
    "    }\n",
    ")\n",
    "#----------------------------------------------------------------------------------------------------\n",
    "def ai_giving_response(user_input):\n",
    "    url = \"https://api.groq.com/openai/v1/chat/completions\"\n",
    "    \n",
    "    headers = {\n",
    "        \"Authorization\": f\"Bearer {GROQ_API_KEY}\",\n",
    "        \"Content-Type\": \"application/json\"\n",
    "    }\n",
    "    data = {\n",
    "        \"model\": \"llama3-70b-8192\",\n",
    "        \"messages\": [{\"role\": \"user\", \"content\": user_input}]\n",
    "    }\n",
    "    response = requests.post(url, headers=headers, json=data)\n",
    "    if response.status_code == 200:\n",
    "        response_json = response.json()\n",
    "        if \"choices\" in response_json and len(response_json[\"choices\"]) > 0:\n",
    "            return response_json[\"choices\"][0][\"message\"][\"content\"]\n",
    "        else:\n",
    "            return \"I received an unexpected response.\"\n",
    "    else:\n",
    "        print(\"Error:\", response.text)\n",
    "        return \"I encountered an error.\"\n",
    "#----------------------------------------------------------------------------------------------------\n",
    "def text_to_speech(text):\n",
    "    engine.say(text)\n",
    "    engine.runAndWait()\n",
    "#----------------------------------------------------------------------------------------------------\n",
    "def play_youtube(query):\n",
    "    try:\n",
    "        text_to_speech(f\"Searching YouTube for {query}\")\n",
    "        search_query = f\"{query} site:youtube.com\"\n",
    "        with DDGS() as ddgs:\n",
    "            time.sleep(2)\n",
    "            results = list(ddgs.text(search_query, max_results=1))\n",
    "            if results:\n",
    "                url = results[0]['href']\n",
    "                text_to_speech(\"Opening YouTube video.\")\n",
    "                print(\"Opening:\", url)\n",
    "                webbrowser.open_new_tab(url)\n",
    "            else:\n",
    "                text_to_speech(\"No YouTube video found.\")\n",
    "    except Exception as e:\n",
    "        print(\"Error:\", e)\n",
    "        text_to_speech(\"An error occurred while trying to play the video.\")\n",
    "#----------------------------------------------------------------------------------------------------\n",
    "def get_article_text(url):\n",
    "    try:\n",
    "        summary_prompt = f\"Give me a clean 5-point summary of the article in this link:\\n{url}\"\n",
    "\n",
    "        summary_text = summariser.generate_reply(\n",
    "            message=summary_prompt,\n",
    "            sender=\"user\"\n",
    "        )\n",
    "\n",
    "        text_to_speech(summary_text)\n",
    "        return summary_text  # Return the plain string\n",
    "    except Exception as e:\n",
    "        print(f\"Error fetching summary: {e}\")\n",
    "        return \"Sorry, I couldn't summarize the article.\"\n",
    "\n",
    "#----------------------------------------------------------------------------------------------------\n",
    "def is_article_link(url):\n",
    "    return any(ext in url for ext in [\".html\", \"/article\", \"/news\", \"/202\"])\n",
    "\n",
    "def search_and_read(query):\n",
    "    try:\n",
    "        with DDGS() as ddgs:\n",
    "            time.sleep(2)  # Avoid rate limiting\n",
    "            results = list(ddgs.text(query, max_results=1))\n",
    "            if results:\n",
    "                first_result = results[0]\n",
    "                url = first_result[\"href\"]\n",
    "                print(\"Fetching and summarizing:\", url)\n",
    "                if is_article_link(url):\n",
    "                    content = get_article_text(url)\n",
    "                    if content:\n",
    "                        text_to_speech(content[:700])\n",
    "                    else:\n",
    "                        text_to_speech(\"Sorry, I couldn't read the article.\")\n",
    "                else:\n",
    "                    text_to_speech(\"That doesn't look like a direct article link. Trying Wikipedia instead.\")\n",
    "                    raise Exception(\"Invalid link type\")\n",
    "            else:\n",
    "                raise Exception(\"No DDG results\")\n",
    "\n",
    "    except Exception as e:\n",
    "        print(f\"Falling back to Wikipedia due to: {e}\")\n",
    "        try:\n",
    "            summary = wikipedia.summary(query, sentences=3)\n",
    "            print(\"Wikipedia Summary:\\n\", summary)\n",
    "            text_to_speech(\"Here's what I found on Wikipedia.\")\n",
    "            text_to_speech(summary)\n",
    "        except Exception as we:\n",
    "            print(\"Wikipedia error:\", we)\n",
    "            text_to_speech(\"Sorry, I couldn't find anything useful right now.\")\n",
    "\n",
    "#----------------------------------------------------------------------------------------------------\n",
    "\n",
    "def main():\n",
    "    password = input(\"Enter the password to activate assistant: \").lower()\n",
    "    if password != \"jarvis\":\n",
    "        print(\"Incorrect password. Exiting.\")\n",
    "        return\n",
    "    \n",
    "    text_to_speech(\"Password accepted. How can I assist you?\")\n",
    "    \n",
    "    while True:\n",
    "        user_input = input(\"\\nType your command (or type 'exit' to quit): \").lower()\n",
    "\n",
    "        if user_input == \"exit\":\n",
    "            text_to_speech(\"Goodbye!\")\n",
    "            break\n",
    "        \n",
    "        elif \"play\" in user_input and \"youtube\" in user_input:\n",
    "            play_youtube(user_input.replace(\"play\", \"\").replace(\"youtube\", \"\").strip())\n",
    "        \n",
    "        else:\n",
    "            # First search and read a little article\n",
    "            search_and_read(user_input)\n",
    "            text_to_speech(\"Ask me something else or type 'stop' to stop AI mode.\")\n",
    "\n",
    "            # AI conversation loop\n",
    "            while True:\n",
    "                follow_up = input(\"\\nType your question (or 'stop' to return to main menu): \").lower()\n",
    "                if follow_up == \"stop\":\n",
    "                    text_to_speech(\"Okay, returning to command mode.\")\n",
    "                    break\n",
    "                elif follow_up == \"exit\":\n",
    "                    text_to_speech(\"Goodbye!\")\n",
    "                    return\n",
    "                else:\n",
    "                    response = ai_giving_response(follow_up)\n",
    "                    text_to_speech(response)\n",
    "#----------------------------------------------------------------------------------------------------\n",
    "if __name__ == \"__main__\":\n",
    "    main()\n"
   ]
  },
  {
   "cell_type": "code",
   "execution_count": null,
   "id": "749c42f6-d657-4d53-ae4a-5a55f599a8d0",
   "metadata": {},
   "outputs": [],
   "source": [
    "tell me the latest news about donald trump"
   ]
  }
 ],
 "metadata": {
  "kernelspec": {
   "display_name": "Python 3 (ipykernel)",
   "language": "python",
   "name": "python3"
  },
  "language_info": {
   "codemirror_mode": {
    "name": "ipython",
    "version": 3
   },
   "file_extension": ".py",
   "mimetype": "text/x-python",
   "name": "python",
   "nbconvert_exporter": "python",
   "pygments_lexer": "ipython3",
   "version": "3.11.7"
  }
 },
 "nbformat": 4,
 "nbformat_minor": 5
}
